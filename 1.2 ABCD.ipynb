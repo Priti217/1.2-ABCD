{
 "cells": [
  {
   "cell_type": "markdown",
   "id": "c7577ecd",
   "metadata": {},
   "source": [
    "## 1. write a function which will try to find out len of a string without using an inbuilt len function \n",
    "\n",
    "### solution:-"
   ]
  },
  {
   "cell_type": "code",
   "execution_count": null,
   "id": "bd1b9da9",
   "metadata": {},
   "outputs": [],
   "source": [
    "def length(a):\n",
    "  count=0\n",
    "  for i in a:\n",
    "    count+=1\n",
    "  print(count)\n",
    "  "
   ]
  },
  {
   "cell_type": "markdown",
   "id": "08b2655b",
   "metadata": {},
   "source": [
    "## 2. write a function which  will be able to print an index of list element without using an index function\n",
    "\n",
    "### Solution:-\n"
   ]
  },
  {
   "cell_type": "code",
   "execution_count": 9,
   "id": "9fe275bf",
   "metadata": {},
   "outputs": [
    {
     "name": "stdout",
     "output_type": "stream",
     "text": [
      "0 2\n",
      "1 3\n",
      "2 4\n",
      "3 5\n",
      "4 6\n",
      "5 7\n",
      "6 8\n",
      "7 9\n",
      "8 10\n"
     ]
    }
   ],
   "source": [
    "x = [2,3,4,5,6,7,8,9,10]\n",
    "def index():\n",
    "  for i in range(0, len(x)):\n",
    "    print(i, x[i])\n",
    "index()"
   ]
  },
  {
   "cell_type": "code",
   "execution_count": null,
   "id": "958ba11a",
   "metadata": {},
   "outputs": [],
   "source": [
    "# we also use these for particular element to find index without using index function\n",
    "x = [2,3,4,5,6,7,8,9,10]\n",
    "def index(num):\n",
    "  count=0\n",
    "  for i in x:\n",
    "    if num!=i:\n",
    "      count=count+1\n",
    "      i+=1\n",
    "    else:\n",
    "      print(count)\n",
    "    "
   ]
  },
  {
   "cell_type": "markdown",
   "id": "6ad82c92",
   "metadata": {},
   "source": [
    "## 3.write a function which will be able to print an ip address of your system\n",
    "\n",
    "### Solution:-"
   ]
  },
  {
   "cell_type": "code",
   "execution_count": 10,
   "id": "22df77b0",
   "metadata": {},
   "outputs": [
    {
     "name": "stdout",
     "output_type": "stream",
     "text": [
      "Your Computer Name is:LAPTOP-E74RINDH\n",
      "Your Computer IP Address is:192.168.1.5\n"
     ]
    }
   ],
   "source": [
    "import socket   \n",
    "hostname=socket.gethostname()   \n",
    "IPAddr=socket.gethostbyname(hostname)   \n",
    "print(\"Your Computer Name is:\"+hostname)   \n",
    "print(\"Your Computer IP Address is:\"+IPAddr) "
   ]
  },
  {
   "cell_type": "markdown",
   "id": "ebe4a750",
   "metadata": {},
   "source": [
    "## 4. write a function which will shutdown your system\n",
    "\n",
    "### Solution:-"
   ]
  },
  {
   "cell_type": "code",
   "execution_count": 1,
   "id": "49778892",
   "metadata": {},
   "outputs": [
    {
     "name": "stdout",
     "output_type": "stream",
     "text": [
      "Do you wish to shutdown your computer ? (yes / no): no\n"
     ]
    }
   ],
   "source": [
    "import os\n",
    "shutdown = input(\"Do you wish to shutdown your computer ? (yes / no): \")\n",
    "  \n",
    "if shutdown == 'no':\n",
    "    exit()\n",
    "else:\n",
    "    os.system(\"shutdown /s /t 1\")"
   ]
  },
  {
   "cell_type": "markdown",
   "id": "095c5c58",
   "metadata": {},
   "source": [
    "## 5. write a function which will take input as a list with any kind of numeric value and give an out as a multiplication of all the numeric data \n",
    "l = [3.5, 6.56, 4,5,\"sudh\" , \"ineuron\" , 'fsda bootcamp 2.0']\n",
    "\n",
    "### Solution:-"
   ]
  },
  {
   "cell_type": "code",
   "execution_count": 1,
   "id": "1665f4df",
   "metadata": {},
   "outputs": [],
   "source": [
    "l = [3.5, 6.56, 4,5,\"sudh\" , \"ineuron\" , 'fsda bootcamp 2.0']\n",
    "def mul(l):\n",
    "  x=1\n",
    "  for i in l:\n",
    "    if type(i)==float or type(i)==int:\n",
    "      x=x*i\n",
    "  print(x)"
   ]
  },
  {
   "cell_type": "code",
   "execution_count": 2,
   "id": "2e1af0fa",
   "metadata": {},
   "outputs": [
    {
     "name": "stdout",
     "output_type": "stream",
     "text": [
      "459.19999999999993\n"
     ]
    }
   ],
   "source": [
    "mul(l)"
   ]
  },
  {
   "cell_type": "code",
   "execution_count": null,
   "id": "e38d840e",
   "metadata": {},
   "outputs": [],
   "source": []
  }
 ],
 "metadata": {
  "kernelspec": {
   "display_name": "Python 3 (ipykernel)",
   "language": "python",
   "name": "python3"
  },
  "language_info": {
   "codemirror_mode": {
    "name": "ipython",
    "version": 3
   },
   "file_extension": ".py",
   "mimetype": "text/x-python",
   "name": "python",
   "nbconvert_exporter": "python",
   "pygments_lexer": "ipython3",
   "version": "3.9.12"
  }
 },
 "nbformat": 4,
 "nbformat_minor": 5
}
